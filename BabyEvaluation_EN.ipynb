{
 "cells": [
  {
   "cell_type": "code",
   "execution_count": 1,
   "metadata": {},
   "outputs": [
    {
     "name": "stderr",
     "output_type": "stream",
     "text": [
      "/Users/arianabritez/anaconda3/lib/python3.11/site-packages/pandas/core/arrays/masked.py:60: UserWarning: Pandas requires version '1.3.6' or newer of 'bottleneck' (version '1.3.5' currently installed).\n",
      "  from pandas.core import (\n"
     ]
    }
   ],
   "source": [
    "from transformers import pipeline"
   ]
  },
  {
   "cell_type": "code",
   "execution_count": 2,
   "metadata": {},
   "outputs": [],
   "source": [
    "# Check that the model trained via the FillMaskPipeline\n",
    "\n",
    "fill_mask = pipeline(\"fill-mask\", \"./en_model_folder\")"
   ]
  },
  {
   "cell_type": "code",
   "execution_count": 3,
   "metadata": {},
   "outputs": [
    {
     "data": {
      "text/plain": [
       "[{'score': 0.09133267402648926,\n",
       "  'token': 338,\n",
       "  'token_str': ' is',\n",
       "  'sequence': 'The sun is.'},\n",
       " {'score': 0.023114582523703575,\n",
       "  'token': 348,\n",
       "  'token_str': ' was',\n",
       "  'sequence': 'The sun was.'},\n",
       " {'score': 0.02125355415046215,\n",
       "  'token': 3160,\n",
       "  'token_str': ' goes',\n",
       "  'sequence': 'The sun goes.'},\n",
       " {'score': 0.020076582208275795,\n",
       "  'token': 2162,\n",
       "  'token_str': ' comes',\n",
       "  'sequence': 'The sun comes.'},\n",
       " {'score': 0.012036973610520363,\n",
       "  'token': 4459,\n",
       "  'token_str': ' runs',\n",
       "  'sequence': 'The sun runs.'}]"
      ]
     },
     "execution_count": 3,
     "metadata": {},
     "output_type": "execute_result"
    }
   ],
   "source": [
    "# The sun <mask>.\n",
    "# =>\n",
    "\n",
    "fill_mask(\"The sun <mask>.\")"
   ]
  },
  {
   "cell_type": "code",
   "execution_count": 4,
   "metadata": {},
   "outputs": [
    {
     "data": {
      "text/plain": [
       "[{'score': 0.053712792694568634,\n",
       "  'token': 956,\n",
       "  'token_str': ' life',\n",
       "  'sequence': 'This is the beginning of a beautiful life.'},\n",
       " {'score': 0.049621619284152985,\n",
       "  'token': 1751,\n",
       "  'token_str': ' thing',\n",
       "  'sequence': 'This is the beginning of a beautiful thing.'},\n",
       " {'score': 0.02826494537293911,\n",
       "  'token': 1045,\n",
       "  'token_str': ' person',\n",
       "  'sequence': 'This is the beginning of a beautiful person.'},\n",
       " {'score': 0.027260636910796165,\n",
       "  'token': 816,\n",
       "  'token_str': ' world',\n",
       "  'sequence': 'This is the beginning of a beautiful world.'},\n",
       " {'score': 0.026703378185629845,\n",
       "  'token': 571,\n",
       "  'token_str': ' man',\n",
       "  'sequence': 'This is the beginning of a beautiful man.'}]"
      ]
     },
     "execution_count": 4,
     "metadata": {},
     "output_type": "execute_result"
    }
   ],
   "source": [
    "fill_mask(\"This is the beginning of a beautiful <mask>.\")\n",
    "\n",
    "# This is the beginning of a beautiful <mask>.\n",
    "# =>"
   ]
  },
  {
   "cell_type": "code",
   "execution_count": 5,
   "metadata": {},
   "outputs": [
    {
     "data": {
      "text/plain": [
       "[{'score': 0.1482519805431366,\n",
       "  'token': 338,\n",
       "  'token_str': ' is',\n",
       "  'sequence': 'My favourite is.'},\n",
       " {'score': 0.0328047089278698,\n",
       "  'token': 348,\n",
       "  'token_str': ' was',\n",
       "  'sequence': 'My favourite was.'},\n",
       " {'score': 0.01940278336405754,\n",
       "  'token': 328,\n",
       "  'token_str': ' said',\n",
       "  'sequence': 'My favourite said.'},\n",
       " {'score': 0.008965369313955307,\n",
       "  'token': 388,\n",
       "  'token_str': ' are',\n",
       "  'sequence': 'My favourite are.'},\n",
       " {'score': 0.00784672237932682,\n",
       "  'token': 689,\n",
       "  'token_str': ' says',\n",
       "  'sequence': 'My favourite says.'}]"
      ]
     },
     "execution_count": 5,
     "metadata": {},
     "output_type": "execute_result"
    }
   ],
   "source": [
    "fill_mask(\"My favourite <mask>.\")"
   ]
  },
  {
   "cell_type": "code",
   "execution_count": 6,
   "metadata": {},
   "outputs": [
    {
     "data": {
      "text/plain": [
       "[{'score': 0.031360846012830734,\n",
       "  'token': 338,\n",
       "  'token_str': ' is',\n",
       "  'sequence': 'My dear is.'},\n",
       " {'score': 0.029866253957152367,\n",
       "  'token': 1803,\n",
       "  'token_str': ' mom',\n",
       "  'sequence': 'My dear mom.'},\n",
       " {'score': 0.029287051409482956,\n",
       "  'token': 956,\n",
       "  'token_str': ' life',\n",
       "  'sequence': 'My dear life.'},\n",
       " {'score': 0.02575363777577877,\n",
       "  'token': 1964,\n",
       "  'token_str': ' daughter',\n",
       "  'sequence': 'My dear daughter.'},\n",
       " {'score': 0.024260710924863815,\n",
       "  'token': 348,\n",
       "  'token_str': ' was',\n",
       "  'sequence': 'My dear was.'}]"
      ]
     },
     "execution_count": 6,
     "metadata": {},
     "output_type": "execute_result"
    }
   ],
   "source": [
    "fill_mask(\"My dear <mask>.\")"
   ]
  },
  {
   "cell_type": "code",
   "execution_count": 7,
   "metadata": {},
   "outputs": [
    {
     "data": {
      "text/plain": [
       "[{'score': 0.1810673326253891,\n",
       "  'token': 348,\n",
       "  'token_str': ' was',\n",
       "  'sequence': 'There it was.'},\n",
       " {'score': 0.12795591354370117,\n",
       "  'token': 338,\n",
       "  'token_str': ' is',\n",
       "  'sequence': 'There it is.'},\n",
       " {'score': 0.09927884489297867,\n",
       "  'token': 317,\n",
       "  'token_str': \"'s\",\n",
       "  'sequence': \"There it's.\"},\n",
       " {'score': 0.08111044764518738,\n",
       "  'token': 2149,\n",
       "  'token_str': ' happened',\n",
       "  'sequence': 'There it happened.'},\n",
       " {'score': 0.03697726130485535,\n",
       "  'token': 4979,\n",
       "  'token_str': ' happens',\n",
       "  'sequence': 'There it happens.'}]"
      ]
     },
     "execution_count": 7,
     "metadata": {},
     "output_type": "execute_result"
    }
   ],
   "source": [
    "fill_mask(\"There it <mask>.\")"
   ]
  },
  {
   "cell_type": "code",
   "execution_count": 8,
   "metadata": {},
   "outputs": [
    {
     "data": {
      "text/plain": [
       "[{'score': 0.012239956296980381,\n",
       "  'token': 1631,\n",
       "  'token_str': ' different',\n",
       "  'sequence': 'The earth is different.'},\n",
       " {'score': 0.012135233730077744,\n",
       "  'token': 1072,\n",
       "  'token_str': ' good',\n",
       "  'sequence': 'The earth is good.'},\n",
       " {'score': 0.009373237378895283,\n",
       "  'token': 4290,\n",
       "  'token_str': ' simple',\n",
       "  'sequence': 'The earth is simple.'},\n",
       " {'score': 0.00880042277276516,\n",
       "  'token': 2719,\n",
       "  'token_str': ' available',\n",
       "  'sequence': 'The earth is available.'},\n",
       " {'score': 0.008742939680814743,\n",
       "  'token': 4046,\n",
       "  'token_str': ' rare',\n",
       "  'sequence': 'The earth is rare.'}]"
      ]
     },
     "execution_count": 8,
     "metadata": {},
     "output_type": "execute_result"
    }
   ],
   "source": [
    "fill_mask(\"The earth is <mask>.\")"
   ]
  },
  {
   "cell_type": "code",
   "execution_count": null,
   "metadata": {},
   "outputs": [],
   "source": []
  }
 ],
 "metadata": {
  "kernelspec": {
   "display_name": "base",
   "language": "python",
   "name": "python3"
  },
  "language_info": {
   "codemirror_mode": {
    "name": "ipython",
    "version": 3
   },
   "file_extension": ".py",
   "mimetype": "text/x-python",
   "name": "python",
   "nbconvert_exporter": "python",
   "pygments_lexer": "ipython3",
   "version": "3.11.5"
  }
 },
 "nbformat": 4,
 "nbformat_minor": 2
}
