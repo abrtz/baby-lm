{
 "cells": [
  {
   "cell_type": "code",
   "execution_count": 1,
   "metadata": {},
   "outputs": [
    {
     "name": "stderr",
     "output_type": "stream",
     "text": [
      "/Users/arianabritez/anaconda3/lib/python3.11/site-packages/pandas/core/arrays/masked.py:60: UserWarning: Pandas requires version '1.3.6' or newer of 'bottleneck' (version '1.3.5' currently installed).\n",
      "  from pandas.core import (\n"
     ]
    }
   ],
   "source": [
    "from transformers import pipeline"
   ]
  },
  {
   "cell_type": "code",
   "execution_count": 2,
   "metadata": {},
   "outputs": [],
   "source": [
    "# Check that the model trained via the FillMaskPipeline\n",
    "\n",
    "fill_mask = pipeline(\"fill-mask\", \"./es_model_folder\")"
   ]
  },
  {
   "cell_type": "code",
   "execution_count": 4,
   "metadata": {},
   "outputs": [
    {
     "data": {
      "text/plain": [
       "[{'score': 0.026565751060843468,\n",
       "  'token': 317,\n",
       "  'token_str': ' es',\n",
       "  'sequence': 'El sol es.'},\n",
       " {'score': 0.013521121814846992,\n",
       "  'token': 6380,\n",
       "  'token_str': ' cambió',\n",
       "  'sequence': 'El sol cambió.'},\n",
       " {'score': 0.005854944698512554,\n",
       "  'token': 5724,\n",
       "  'token_str': ' humano',\n",
       "  'sequence': 'El sol humano.'},\n",
       " {'score': 0.005566031206399202,\n",
       "  'token': 532,\n",
       "  'token_str': ' fue',\n",
       "  'sequence': 'El sol fue.'},\n",
       " {'score': 0.005055903922766447,\n",
       "  'token': 697,\n",
       "  'token_str': ' tiene',\n",
       "  'sequence': 'El sol tiene.'}]"
      ]
     },
     "execution_count": 4,
     "metadata": {},
     "output_type": "execute_result"
    }
   ],
   "source": [
    "# The sun <mask>.\n",
    "# =>\n",
    "\n",
    "fill_mask(\"El sol <mask>.\")"
   ]
  },
  {
   "cell_type": "code",
   "execution_count": 5,
   "metadata": {},
   "outputs": [
    {
     "data": {
      "text/plain": [
       "[{'score': 0.04429097846150398,\n",
       "  'token': 1801,\n",
       "  'token_str': ' historia',\n",
       "  'sequence': 'Este es el comienzo de una hermosa historia.'},\n",
       " {'score': 0.03282855451107025,\n",
       "  'token': 739,\n",
       "  'token_str': ' pandemia',\n",
       "  'sequence': 'Este es el comienzo de una hermosa pandemia.'},\n",
       " {'score': 0.021437743678689003,\n",
       "  'token': 3178,\n",
       "  'token_str': ' imagen',\n",
       "  'sequence': 'Este es el comienzo de una hermosa imagen.'},\n",
       " {'score': 0.02024802193045616,\n",
       "  'token': 1087,\n",
       "  'token_str': ' vida',\n",
       "  'sequence': 'Este es el comienzo de una hermosa vida.'},\n",
       " {'score': 0.01920788362622261,\n",
       "  'token': 1062,\n",
       "  'token_str': ' situación',\n",
       "  'sequence': 'Este es el comienzo de una hermosa situación.'}]"
      ]
     },
     "execution_count": 5,
     "metadata": {},
     "output_type": "execute_result"
    }
   ],
   "source": [
    "fill_mask(\"Este es el comienzo de una hermosa <mask>.\")\n",
    "\n",
    "# This is the beginning of a beautiful <mask>.\n",
    "# =>"
   ]
  },
  {
   "cell_type": "code",
   "execution_count": 6,
   "metadata": {},
   "outputs": [
    {
     "data": {
      "text/plain": [
       "[{'score': 0.04645116254687309,\n",
       "  'token': 1087,\n",
       "  'token_str': ' vida',\n",
       "  'sequence': 'Mi vida favorita.'},\n",
       " {'score': 0.035930998623371124,\n",
       "  'token': 2681,\n",
       "  'token_str': ' carrera',\n",
       "  'sequence': 'Mi carrera favorita.'},\n",
       " {'score': 0.028179669752717018,\n",
       "  'token': 2892,\n",
       "  'token_str': ' hija',\n",
       "  'sequence': 'Mi hija favorita.'},\n",
       " {'score': 0.020970521494746208,\n",
       "  'token': 2339,\n",
       "  'token_str': ' hijo',\n",
       "  'sequence': 'Mi hijo favorita.'},\n",
       " {'score': 0.019200241193175316,\n",
       "  'token': 2540,\n",
       "  'token_str': ' madre',\n",
       "  'sequence': 'Mi madre favorita.'}]"
      ]
     },
     "execution_count": 6,
     "metadata": {},
     "output_type": "execute_result"
    }
   ],
   "source": [
    "fill_mask(\"Mi <mask> favorita.\")"
   ]
  },
  {
   "cell_type": "code",
   "execution_count": 8,
   "metadata": {},
   "outputs": [
    {
     "data": {
      "text/plain": [
       "[{'score': 0.04101548343896866,\n",
       "  'token': 1827,\n",
       "  'token_str': ' estamos',\n",
       "  'sequence': 'Ahí estamos.'},\n",
       " {'score': 0.033555563539266586,\n",
       "  'token': 345,\n",
       "  'token_str': ' no',\n",
       "  'sequence': 'Ahí no.'},\n",
       " {'score': 0.032375335693359375,\n",
       "  'token': 1469,\n",
       "  'token_str': ' sí',\n",
       "  'sequence': 'Ahí sí.'},\n",
       " {'score': 0.01849076710641384,\n",
       "  'token': 317,\n",
       "  'token_str': ' es',\n",
       "  'sequence': 'Ahí es.'},\n",
       " {'score': 0.015397523529827595,\n",
       "  'token': 601,\n",
       "  'token_str': ' hay',\n",
       "  'sequence': 'Ahí hay.'}]"
      ]
     },
     "execution_count": 8,
     "metadata": {},
     "output_type": "execute_result"
    }
   ],
   "source": [
    "fill_mask(\"Ahí <mask>.\")"
   ]
  },
  {
   "cell_type": "code",
   "execution_count": 9,
   "metadata": {},
   "outputs": [
    {
     "data": {
      "text/plain": [
       "[{'score': 0.02295990288257599,\n",
       "  'token': 2391,\n",
       "  'token_str': ' menor',\n",
       "  'sequence': 'La tierra es menor.'},\n",
       " {'score': 0.018410608172416687,\n",
       "  'token': 2618,\n",
       "  'token_str': ' alta',\n",
       "  'sequence': 'La tierra es alta.'},\n",
       " {'score': 0.017725177109241486,\n",
       "  'token': 1601,\n",
       "  'token_str': ' importante',\n",
       "  'sequence': 'La tierra es importante.'},\n",
       " {'score': 0.01700403355062008,\n",
       "  'token': 7881,\n",
       "  'token_str': ' distinta',\n",
       "  'sequence': 'La tierra es distinta.'},\n",
       " {'score': 0.012822668068110943,\n",
       "  'token': 2580,\n",
       "  'token_str': ' buena',\n",
       "  'sequence': 'La tierra es buena.'}]"
      ]
     },
     "execution_count": 9,
     "metadata": {},
     "output_type": "execute_result"
    }
   ],
   "source": [
    "fill_mask(\"La tierra es <mask>.\")"
   ]
  },
  {
   "cell_type": "code",
   "execution_count": null,
   "metadata": {},
   "outputs": [],
   "source": []
  }
 ],
 "metadata": {
  "kernelspec": {
   "display_name": "base",
   "language": "python",
   "name": "python3"
  },
  "language_info": {
   "codemirror_mode": {
    "name": "ipython",
    "version": 3
   },
   "file_extension": ".py",
   "mimetype": "text/x-python",
   "name": "python",
   "nbconvert_exporter": "python",
   "pygments_lexer": "ipython3",
   "version": "3.11.5"
  }
 },
 "nbformat": 4,
 "nbformat_minor": 2
}
