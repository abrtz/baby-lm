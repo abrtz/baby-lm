{
  "cells": [
    {
      "cell_type": "code",
      "execution_count": null,
      "metadata": {
        "id": "u2hr7cWIsQHQ"
      },
      "outputs": [],
      "source": [
        "# https://huggingface.co/blog/how-to-train"
      ]
    },
    {
      "cell_type": "code",
      "execution_count": 1,
      "metadata": {
        "colab": {
          "base_uri": "https://localhost:8080/"
        },
        "id": "DO4EU4-8-81X",
        "outputId": "c70bc1c1-27d1-4ab8-ba07-887db1e2f708"
      },
      "outputs": [
        {
          "name": "stdout",
          "output_type": "stream",
          "text": [
            "Requirement already satisfied: datasets in /Users/arianabritez/anaconda3/lib/python3.11/site-packages (2.12.0)\n",
            "Requirement already satisfied: numpy>=1.17 in /Users/arianabritez/anaconda3/lib/python3.11/site-packages (from datasets) (1.24.3)\n",
            "Requirement already satisfied: pyarrow>=8.0.0 in /Users/arianabritez/anaconda3/lib/python3.11/site-packages (from datasets) (11.0.0)\n",
            "Requirement already satisfied: dill<0.3.7,>=0.3.0 in /Users/arianabritez/anaconda3/lib/python3.11/site-packages (from datasets) (0.3.6)\n",
            "Requirement already satisfied: pandas in /Users/arianabritez/anaconda3/lib/python3.11/site-packages (from datasets) (2.1.4)\n",
            "Requirement already satisfied: requests>=2.19.0 in /Users/arianabritez/anaconda3/lib/python3.11/site-packages (from datasets) (2.31.0)\n",
            "Requirement already satisfied: tqdm>=4.62.1 in /Users/arianabritez/anaconda3/lib/python3.11/site-packages (from datasets) (4.65.0)\n",
            "Requirement already satisfied: xxhash in /Users/arianabritez/anaconda3/lib/python3.11/site-packages (from datasets) (2.0.2)\n",
            "Requirement already satisfied: multiprocess in /Users/arianabritez/anaconda3/lib/python3.11/site-packages (from datasets) (0.70.14)\n",
            "Requirement already satisfied: fsspec>=2021.11.1 in /Users/arianabritez/anaconda3/lib/python3.11/site-packages (from fsspec[http]>=2021.11.1->datasets) (2023.4.0)\n",
            "Requirement already satisfied: aiohttp in /Users/arianabritez/anaconda3/lib/python3.11/site-packages (from datasets) (3.9.5)\n",
            "Requirement already satisfied: huggingface-hub<1.0.0,>=0.11.0 in /Users/arianabritez/anaconda3/lib/python3.11/site-packages (from datasets) (0.15.1)\n",
            "Requirement already satisfied: packaging in /Users/arianabritez/.local/lib/python3.11/site-packages (from datasets) (24.1)\n",
            "Requirement already satisfied: responses<0.19 in /Users/arianabritez/anaconda3/lib/python3.11/site-packages (from datasets) (0.13.3)\n",
            "Requirement already satisfied: pyyaml>=5.1 in /Users/arianabritez/anaconda3/lib/python3.11/site-packages (from datasets) (6.0)\n",
            "Requirement already satisfied: aiosignal>=1.1.2 in /Users/arianabritez/anaconda3/lib/python3.11/site-packages (from aiohttp->datasets) (1.2.0)\n",
            "Requirement already satisfied: attrs>=17.3.0 in /Users/arianabritez/anaconda3/lib/python3.11/site-packages (from aiohttp->datasets) (23.1.0)\n",
            "Requirement already satisfied: frozenlist>=1.1.1 in /Users/arianabritez/anaconda3/lib/python3.11/site-packages (from aiohttp->datasets) (1.3.3)\n",
            "Requirement already satisfied: multidict<7.0,>=4.5 in /Users/arianabritez/anaconda3/lib/python3.11/site-packages (from aiohttp->datasets) (6.0.2)\n",
            "Requirement already satisfied: yarl<2.0,>=1.0 in /Users/arianabritez/anaconda3/lib/python3.11/site-packages (from aiohttp->datasets) (1.8.1)\n",
            "Requirement already satisfied: filelock in /Users/arianabritez/anaconda3/lib/python3.11/site-packages (from huggingface-hub<1.0.0,>=0.11.0->datasets) (3.9.0)\n",
            "Requirement already satisfied: typing-extensions>=3.7.4.3 in /Users/arianabritez/.local/lib/python3.11/site-packages (from huggingface-hub<1.0.0,>=0.11.0->datasets) (4.12.2)\n",
            "Requirement already satisfied: charset-normalizer<4,>=2 in /Users/arianabritez/anaconda3/lib/python3.11/site-packages (from requests>=2.19.0->datasets) (2.0.4)\n",
            "Requirement already satisfied: idna<4,>=2.5 in /Users/arianabritez/anaconda3/lib/python3.11/site-packages (from requests>=2.19.0->datasets) (3.4)\n",
            "Requirement already satisfied: urllib3<3,>=1.21.1 in /Users/arianabritez/anaconda3/lib/python3.11/site-packages (from requests>=2.19.0->datasets) (1.26.16)\n",
            "Requirement already satisfied: certifi>=2017.4.17 in /Users/arianabritez/anaconda3/lib/python3.11/site-packages (from requests>=2.19.0->datasets) (2023.11.17)\n",
            "Requirement already satisfied: six in /Users/arianabritez/.local/lib/python3.11/site-packages (from responses<0.19->datasets) (1.16.0)\n",
            "Requirement already satisfied: python-dateutil>=2.8.2 in /Users/arianabritez/.local/lib/python3.11/site-packages (from pandas->datasets) (2.9.0.post0)\n",
            "Requirement already satisfied: pytz>=2020.1 in /Users/arianabritez/anaconda3/lib/python3.11/site-packages (from pandas->datasets) (2023.3.post1)\n",
            "Requirement already satisfied: tzdata>=2022.1 in /Users/arianabritez/anaconda3/lib/python3.11/site-packages (from pandas->datasets) (2023.3)\n",
            "Requirement already satisfied: nltk in /Users/arianabritez/anaconda3/lib/python3.11/site-packages (3.8.1)\n",
            "Requirement already satisfied: click in /Users/arianabritez/anaconda3/lib/python3.11/site-packages (from nltk) (8.0.4)\n",
            "Requirement already satisfied: joblib in /Users/arianabritez/anaconda3/lib/python3.11/site-packages (from nltk) (1.2.0)\n",
            "Requirement already satisfied: regex>=2021.8.3 in /Users/arianabritez/anaconda3/lib/python3.11/site-packages (from nltk) (2022.7.9)\n",
            "Requirement already satisfied: tqdm in /Users/arianabritez/anaconda3/lib/python3.11/site-packages (from nltk) (4.65.0)\n"
          ]
        }
      ],
      "source": [
        "!pip install datasets\n",
        "!pip install nltk"
      ]
    },
    {
      "cell_type": "code",
      "execution_count": 2,
      "metadata": {
        "colab": {
          "base_uri": "https://localhost:8080/"
        },
        "id": "JUtSYQU6vioc",
        "outputId": "361dba39-fd09-456e-a90d-65e819bb0eb1"
      },
      "outputs": [
        {
          "name": "stderr",
          "output_type": "stream",
          "text": [
            "[nltk_data] Downloading package punkt to\n",
            "[nltk_data]     /Users/arianabritez/nltk_data...\n",
            "[nltk_data]   Package punkt is already up-to-date!\n"
          ]
        },
        {
          "data": {
            "text/plain": [
              "True"
            ]
          },
          "execution_count": 2,
          "metadata": {},
          "output_type": "execute_result"
        }
      ],
      "source": [
        "import transformers\n",
        "from transformers import RobertaConfig\n",
        "from transformers import RobertaForMaskedLM\n",
        "from transformers import Trainer, TrainingArguments\n",
        "from tokenizers import ByteLevelBPETokenizer\n",
        "from transformers import DataCollatorForLanguageModeling\n",
        "from transformers import RobertaTokenizerFast\n",
        "import pandas as pd\n",
        "import torch\n",
        "from torch.utils.data import Dataset, DataLoader\n",
        "from torch.utils.data import SequentialSampler\n",
        "from datasets import load_dataset\n",
        "import os\n",
        "from sklearn.model_selection import train_test_split\n",
        "import nltk\n",
        "nltk.download('punkt')"
      ]
    },
    {
      "cell_type": "code",
      "execution_count": null,
      "metadata": {
        "colab": {
          "base_uri": "https://localhost:8080/"
        },
        "id": "HAIzIbtQqB1K",
        "outputId": "888626da-4d32-4200-c2d1-173110012058"
      },
      "outputs": [],
      "source": [
        "from google.colab import drive\n",
        "drive.mount('/content/drive')"
      ]
    },
    {
      "cell_type": "code",
      "execution_count": 3,
      "metadata": {
        "colab": {
          "base_uri": "https://localhost:8080/",
          "height": 235,
          "referenced_widgets": [
            "4d7d96e97a49458584fea7bd92bbeb09",
            "ba539e8e49c24330b717a31c45a5ec18",
            "c4086109f9594c718bae833a4aef71d5",
            "1d3593e601ee4197bfbc10a75643ae4f",
            "2def42b92d994a2c8c223ef6c71b9054",
            "125e01b941a847e493c25773b6e428c2",
            "fdfe8ad9b63d4388a566ae859021698c",
            "b455f7d8a64441e1909278f1985d9887",
            "7c6c3ea0bb944f66b09539f721011796",
            "702b6090b4f6413e8f87561de32acfcc",
            "72f0128fe0954048995fc7dc4a5d15c7",
            "e12005eca99249e6a68e23e8293d81b4",
            "e5bf6536f824430e960c9fe29c0ef940",
            "6a55d2277e6f4e8b83f8229ca62e3421",
            "f950729509e843a4addd89a690c9ccf6",
            "caa0986de6394c359d1af89cbbf0ecb7",
            "a0a8d568ca9945bd853633f61169018e",
            "d4da5cd1489b42cbad3f0689a0237047",
            "03cb694afd124f0192f69f7168cda45e",
            "595635c1d3614fc2bfd34db31c468931",
            "c6a0ae0de6ab4913aeced9bbaf0face5",
            "b733609e932f41788ad0609910af4148",
            "5a34b3ed0bf240fb8f712ac189937b51",
            "3904c0e57deb4e8b95f8bc72464a8ecf",
            "e2f85a1f3e3349999da9b57c8363a8c0",
            "389fef93c09942c281dd5c6f63b4c148",
            "51cf6adf67484072a89115b87ffcd27a",
            "dd4e8f401e4646e78d224019239f4b79",
            "0401714552b3402bb8221e1e09b74c59",
            "ca5c9c7dea6a4a69bd596a0375e07d15",
            "1eafd51247c441e492c21e41416b8371",
            "cc324435ffb848b18a8f8f217a333b70",
            "25281e6fcc9049e9b3b0b58a1d6b2037"
          ]
        },
        "id": "y-bPbd4xOhvd",
        "outputId": "bf770367-764a-45d9-ab82-375546d73e97"
      },
      "outputs": [
        {
          "name": "stderr",
          "output_type": "stream",
          "text": [
            "Found cached dataset parquet (/Users/arianabritez/.cache/huggingface/datasets/piuba-bigdata___parquet/piuba-bigdata--articles_and_comments-94c404d9208411a3/0.0.0/2a3b91fbd88a2c90d1dbbb32b460cf621d31bd5b05b934492fdef7d8d6f236ec)\n"
          ]
        },
        {
          "data": {
            "application/vnd.jupyter.widget-view+json": {
              "model_id": "c9e8a905fe114706a52a879dcf7187f9",
              "version_major": 2,
              "version_minor": 0
            },
            "text/plain": [
              "  0%|          | 0/1 [00:00<?, ?it/s]"
            ]
          },
          "metadata": {},
          "output_type": "display_data"
        }
      ],
      "source": [
        "#ds = load_dataset(\"marianbasti/boletin-oficial-argentina\")\n",
        "ds = load_dataset(\"piuba-bigdata/articles_and_comments\")"
      ]
    },
    {
      "cell_type": "code",
      "execution_count": 4,
      "metadata": {
        "colab": {
          "base_uri": "https://localhost:8080/"
        },
        "id": "cw8A7demSfjr",
        "outputId": "4c113b49-adf8-4ce4-be50-85f183dbf740"
      },
      "outputs": [
        {
          "data": {
            "text/plain": [
              "DatasetDict({\n",
              "    train: Dataset({\n",
              "        features: ['tweet_id', 'text', 'title', 'url', 'user', 'body', 'created_at', 'comments'],\n",
              "        num_rows: 537201\n",
              "    })\n",
              "})"
            ]
          },
          "execution_count": 4,
          "metadata": {},
          "output_type": "execute_result"
        }
      ],
      "source": [
        "ds"
      ]
    },
    {
      "cell_type": "code",
      "execution_count": 5,
      "metadata": {
        "colab": {
          "base_uri": "https://localhost:8080/"
        },
        "id": "Eop6XEB2Stks",
        "outputId": "b048449e-5248-4562-ed48-8f6a05cfcb49"
      },
      "outputs": [
        {
          "data": {
            "text/plain": [
              "{'tweet_id': '1376940813968609288',\n",
              " 'text': 'Segunda ola de coronavirus: preocupan las reuniones sociales y el Gobierno analiza medidas para después de Semana Santa https://t.co/KG2XU0uRKz',\n",
              " 'title': 'Segunda ola de coronavirus: preocupan las reuniones sociales y el Gobierno analiza medidas para después de Semana Santa',\n",
              " 'url': 'https://www.clarin.com/politica/segunda-ola-coronavirus-preocupan-reuniones-sociales-gobierno-analiza-medidas-despues-semana-santa_0_NnjHl1iUe.html?utm_medium=Social&utm_source=Twitter#Echobox=1617123246',\n",
              " 'user': 'clarincom',\n",
              " 'body': 'La decisión de Axel Kicillof de suspender actividades nocturnas y limitar las reuniones sociales no sorprendió a la Casa Rosada. Más allá de que había avisado que tomaría medidas restrictivas, el gobernador bonaerense se adelantó a la primera herramienta a la que apelaría la administración de Alberto Fernández después de Semana Santa si es que la curva de contagios sigue en ascenso.\\n\\nLa confirmación de que en Argentina ya hay transmisión comunitaria de las nuevas cepas encendió las alarmas del Gobierno, donde se mira con especial preocupación las salidas nocturnas y los encuentros privados en casas. Son, según se evaluó en la reunión con el comité de expertos sanitarias que encabezaron este lunes el jefe de Gabinete, Santiago Cafiero, y la ministra de Salud, Carla Vizzotti, la principal causa de contagio ya que no contempla protocolos e implica un relajamiento por parte de las personas.\\n\\nEl análisis que se hizo en la cumbre en Casa Rosada apuntó a agotar las instancias para concientizar a la gente, con campañas masivas en los medios de comunicación, pero con la premisa de hacer un monitoreo “minuto a minuto” y volver a evaluar la situación post Pascuas.\\n\\n“Cambiar ahora, cuando ya estamos casi en Semana Santa puede ser perjudicial porque la peor medida es la que no se acata. Pero si la curva de contagios sigue, no va a haber demasiadas opciones”, evaluó uno de los presentes en el encuentro en el Salón Eva Perón.\\n\\nEl cierre de actividades dispuesto por Kicillof entre las 2 y las 6 de la mañana y el límite de hasta 10 personas para las reuniones sociales son dos medidas que el Gobierno ve con buenos ojos. De hecho, como contó Clarín, la Casa Rosada viene exigiendo más iniciativa a los gobernadores y \"coparticipar\" los costos políticos que representan los cierres, por lo que gestos como el del mandatario bonaerense, o el de sus pares Jorge Capitanich (Chaco) y Ricardo Quintela (La Rioja) que también tomaron decisiones, fueron destacados en Balcarce 50.\\n\\nLa Ciudad es un caso aparte. No sólo por las diferencias políticas, que se acentuaron progresivamente desde la quita de los fondos de la coparticipación que dispuso Fernández, sino por la postura del jefe de Gobierno porteño, Horacio Rodríguez Larreta, de no hacer cambios. De todos modos, en Nación creen que si el escenario se complica, el alcalde se verá \"forzado por la realidad\" a cambiar la estrategia.\\n\\n\\n\\nEl comité de expertos, integrado por Angela Gentile, Gustavo Lopardo, Pedro Cahn, Javier Fariña, Pablo Bonvehí y Tomás Orduna, le aconsejó a los funcionarios del Gobierno intensificar los mensajes que convoquen a la responsabilidad individual.\\n\\nPor parte del Gobierno nacional, el filósofo Alejandro Grimson y el secretario de Medios y Comunicación Pública, Francisco Meritello, tomaron nota del pedido y comienzan a trabajar en una línea discursiva que, nuevamente, ponga al cuidado personal como la principal herramienta para prevenir los contagios.\\n\\nEn el Gobierno afirman, en sintonía con lo que plantearon el lunes los especialistas, que “las actividades con protocolos no implican mayores riesgos”, por lo que descartan medidas que afecten a la industria, la producción y el comercio. No lo dirán públicamente, pero por lo bajo en el Gobierno admiten que el contexto económico y la imposibilidad del Estado de afrontar el pago de subsidios como la IFE y el ATP también influyen en esa decisión.\\n\\nEn ese sentido, incluso Pedro Cahn, uno de los más rigurosos el año pasado a la hora de reclamar un aislamiento duro, en este contexto dijo que “no es necesario” volver a una fase 1.\\n\\nEn esa línea se inscribió la decisión de no cerrar el turismo por el fin de semana largo. Matías Lammens, ministro del área, y Mario Meoni (Transporte) transmitieron tranquilidad a sus sectores, agobiados por la crisis económica, pero reforzaron el pedido para que refuercen los cuidados y los protocolos. “Si se hace bien, el turismo no es problema”, fue el mensaje que escucharon de los sanitaristas.\\n\\nEl desafío en la tarea de generar conciencia en la gente que se proponen los funcionarios del Gobierno tiene que ver con el desgaste social que implicó la extensa cuarentena que registró la Argentina en 2020, pero al mismo tiempo el hartazgo de algunos sectores por las demoras en el plan de vacunación.\\n\\nNo es, según coinciden tres interlocutores de la reunión, la evaluación que hacen los sanitaristas. “Destacaron cómo avanza el plan de vacunación y que Argentina esté entre los 20 países que más vacunas recibió”, asegura uno de ellos.\\n\\nHay expectativas por las tratativas que Vizzotti y Cecilia Nicolini, asesora todoterreno del Presidente pero que en los últimos días comenzó a tender puentes directos con la vice Cristina Kirchner, realizan con Rusia para acelerar la llegada de más dosis.',\n",
              " 'created_at': '2021-03-30T16:54:07Z',\n",
              " 'comments': [{'created_at': '2021-03-30T17:03:09Z',\n",
              "   'prediction': {'APPEARANCE': 0,\n",
              "    'CALLS': 0,\n",
              "    'CLASS': 0,\n",
              "    'CRIMINAL': 0,\n",
              "    'DISABLED': 0,\n",
              "    'LGBTI': 0,\n",
              "    'POLITICS': 0,\n",
              "    'RACISM': 0,\n",
              "    'WOMEN': 0},\n",
              "   'text': '@clarincom A mi me preocupa el trabajo.. La evita madre que los pario 😵',\n",
              "   'tweet_id': '1376943088732672004',\n",
              "   'user_id': '1532596098'},\n",
              "  {'created_at': '2021-03-30T17:05:45Z',\n",
              "   'prediction': {'APPEARANCE': 0,\n",
              "    'CALLS': 0,\n",
              "    'CLASS': 0,\n",
              "    'CRIMINAL': 0,\n",
              "    'DISABLED': 0,\n",
              "    'LGBTI': 0,\n",
              "    'POLITICS': 0,\n",
              "    'RACISM': 0,\n",
              "    'WOMEN': 0},\n",
              "   'text': '@clarincom Lo que preocupa. https://t.co/Vmf9VvYpUk',\n",
              "   'tweet_id': '1376943743652216837',\n",
              "   'user_id': '1222094021687943168'},\n",
              "  {'created_at': '2021-03-30T17:06:31Z',\n",
              "   'prediction': {'APPEARANCE': 0,\n",
              "    'CALLS': 0,\n",
              "    'CLASS': 0,\n",
              "    'CRIMINAL': 0,\n",
              "    'DISABLED': 0,\n",
              "    'LGBTI': 0,\n",
              "    'POLITICS': 0,\n",
              "    'RACISM': 0,\n",
              "    'WOMEN': 0},\n",
              "   'text': '@clarincom Lo que les preocupa. https://t.co/PGI2YwxZlC',\n",
              "   'tweet_id': '1376943937240322050',\n",
              "   'user_id': '1222094021687943168'},\n",
              "  {'created_at': '2021-03-30T17:11:23Z',\n",
              "   'prediction': {'APPEARANCE': 0,\n",
              "    'CALLS': 0,\n",
              "    'CLASS': 0,\n",
              "    'CRIMINAL': 0,\n",
              "    'DISABLED': 0,\n",
              "    'LGBTI': 0,\n",
              "    'POLITICS': 0,\n",
              "    'RACISM': 0,\n",
              "    'WOMEN': 0},\n",
              "   'text': '@clarincom Le recomendaríamos al presidente de Argentina, que las botellas para agua, hechas con plástico contaminante que utiliza en todas sus presentaciones, sean de vidrio, ya que el plástico contamina los lagos y los océanos y mata peces, chicos y grandes. Gracias, señor Fernández.',\n",
              "   'tweet_id': '1376945159640858625',\n",
              "   'user_id': '582286194'},\n",
              "  {'created_at': '2021-03-30T17:26:06Z',\n",
              "   'prediction': {'APPEARANCE': 0,\n",
              "    'CALLS': 0,\n",
              "    'CLASS': 0,\n",
              "    'CRIMINAL': 0,\n",
              "    'DISABLED': 0,\n",
              "    'LGBTI': 0,\n",
              "    'POLITICS': 0,\n",
              "    'RACISM': 0,\n",
              "    'WOMEN': 0},\n",
              "   'text': '@clarincom Para salvar al correo de la quiebra (Y arrastre a SOCMA) Macri ocrece 1.000 millones de pesos.... Adeudan 70.000 millones. Pero eso no indigna a los periodistas ensobrados',\n",
              "   'tweet_id': '1376948864402477059',\n",
              "   'user_id': '951552761988034560'},\n",
              "  {'created_at': '2021-03-30T17:40:23Z',\n",
              "   'prediction': {'APPEARANCE': 0,\n",
              "    'CALLS': 0,\n",
              "    'CLASS': 0,\n",
              "    'CRIMINAL': 0,\n",
              "    'DISABLED': 0,\n",
              "    'LGBTI': 0,\n",
              "    'POLITICS': 0,\n",
              "    'RACISM': 0,\n",
              "    'WOMEN': 0},\n",
              "   'text': '@clarincom Fue en ENERO la segunda ola, pero estábamos todos de vacaciones. https://t.co/3zZA9ltS4X',\n",
              "   'tweet_id': '1376952459114000390',\n",
              "   'user_id': '1243535922542624773'},\n",
              "  {'created_at': '2021-03-30T18:26:20Z',\n",
              "   'prediction': {'APPEARANCE': 0,\n",
              "    'CALLS': 0,\n",
              "    'CLASS': 0,\n",
              "    'CRIMINAL': 0,\n",
              "    'DISABLED': 0,\n",
              "    'LGBTI': 0,\n",
              "    'POLITICS': 0,\n",
              "    'RACISM': 0,\n",
              "    'WOMEN': 0},\n",
              "   'text': '@clarincom Cada vez más contagios y contagios,imparable.Sin vacunas trabajando.',\n",
              "   'tweet_id': '1376964022738812933',\n",
              "   'user_id': '756310420676378624'},\n",
              "  {'created_at': '2021-03-30T18:58:01Z',\n",
              "   'prediction': {'APPEARANCE': 0,\n",
              "    'CALLS': 0,\n",
              "    'CLASS': 0,\n",
              "    'CRIMINAL': 0,\n",
              "    'DISABLED': 0,\n",
              "    'LGBTI': 0,\n",
              "    'POLITICS': 0,\n",
              "    'RACISM': 0,\n",
              "    'WOMEN': 0},\n",
              "   'text': '@clarincom Tendría q ser antes para evitar el traslado de tanta gente',\n",
              "   'tweet_id': '1376971996496560129',\n",
              "   'user_id': '1330945268859154432'}]}"
            ]
          },
          "execution_count": 5,
          "metadata": {},
          "output_type": "execute_result"
        }
      ],
      "source": [
        "ds[\"train\"][0]"
      ]
    },
    {
      "cell_type": "code",
      "execution_count": 6,
      "metadata": {
        "colab": {
          "base_uri": "https://localhost:8080/",
          "height": 86
        },
        "id": "YBsEMxclzlFs",
        "outputId": "a0c9a41e-abdb-4651-e8aa-b821c82f7d7b"
      },
      "outputs": [
        {
          "data": {
            "text/plain": [
              "'La noche del domingo 28 de marzo efectivos que responden a la fuerza comandada por el ministro Sergio Berni esposaron a una trabajadora de la salud que se aprestaba a socorrer a una persona que llegó con dolor en el pecho a la UPA N° 5 de Longchamps, en el distrito de Almirante Brown, al sur del conurbano bonaerense.\\n\\nEl motivo esgrimido por los uniformados fue que ella, al cumplir con su tarea, no estaba haciendo lo que ellos le ordenaron, que era extraer sangre a una persona que llevaron al lugar. Con total prepotencia esgrimieron que estaba \"resistiendo a la autoridad\". Cabe aclarar que en ese lugar no se realizan extracciones, según explicó la misma enfermera, que luego del incidente -durante el cual sus compañeros reclamaban que fuera dejada en libertad- debió ser atendida presa del malestar nervioso que le provocó toda la situación.\\n\\nEn una entrevista con Canal 13 este martes la profesional explicó que \"Fue de terror lo que me pasó, somos pocas enfermeras en las guardias porque hay muchas bajas, gente que se contagió y otros murieron. Yo estaba finalizando mi turno, ni siquiera estaba en ese sector. Yo tenía que atender a una persona con un dolor en el pecho. La policía me increpó, preguntándome qué me pensaba yo, me dijo que tenía que hacer lo que ella decía. Me trató muy mal. Entonces le dije que tenía que atender una emergencia y que además nuestro trabajo no es hacer extracciones, porque no somos extraccionistas. No hay en la UPA\".\\n\\nEn el caso interviene la UFI 4 de Lomas de Zamora.\\n\\nBárbara Acevedo, enfermera y referente del hospital Garrahan se solidarizó en su cuenta de Twitter.'"
            ]
          },
          "execution_count": 6,
          "metadata": {},
          "output_type": "execute_result"
        }
      ],
      "source": [
        "#the news article is in the body key\n",
        "ds[\"train\"][4][\"body\"]"
      ]
    },
    {
      "cell_type": "code",
      "execution_count": 7,
      "metadata": {},
      "outputs": [
        {
          "name": "stderr",
          "output_type": "stream",
          "text": [
            "Loading cached processed dataset at /Users/arianabritez/.cache/huggingface/datasets/piuba-bigdata___parquet/piuba-bigdata--articles_and_comments-94c404d9208411a3/0.0.0/2a3b91fbd88a2c90d1dbbb32b460cf621d31bd5b05b934492fdef7d8d6f236ec/cache-d182953cb8ddcf51.arrow\n"
          ]
        }
      ],
      "source": [
        "feature_to_keep = \"body\"\n",
        "\n",
        "#remove all columns except the body of text\n",
        "updated_ds = ds.map(\\\n",
        "    lambda x: x,  # the data stays the same\n",
        "    remove_columns=[col for col in ds['train'].column_names if col != feature_to_keep]\n",
        ")"
      ]
    },
    {
      "cell_type": "code",
      "execution_count": 8,
      "metadata": {},
      "outputs": [
        {
          "data": {
            "text/plain": [
              "DatasetDict({\n",
              "    train: Dataset({\n",
              "        features: ['body'],\n",
              "        num_rows: 537201\n",
              "    })\n",
              "})"
            ]
          },
          "execution_count": 8,
          "metadata": {},
          "output_type": "execute_result"
        }
      ],
      "source": [
        "updated_ds"
      ]
    },
    {
      "cell_type": "code",
      "execution_count": 9,
      "metadata": {},
      "outputs": [
        {
          "data": {
            "text/plain": [
              "Dataset({\n",
              "    features: ['body'],\n",
              "    num_rows: 537201\n",
              "})"
            ]
          },
          "execution_count": 9,
          "metadata": {},
          "output_type": "execute_result"
        }
      ],
      "source": [
        "updated_ds[\"train\"]"
      ]
    },
    {
      "cell_type": "code",
      "execution_count": 10,
      "metadata": {
        "id": "HdXu8pmJgx3f"
      },
      "outputs": [],
      "source": [
        "df = pd.DataFrame(updated_ds[\"train\"])"
      ]
    },
    {
      "cell_type": "code",
      "execution_count": 11,
      "metadata": {
        "colab": {
          "base_uri": "https://localhost:8080/"
        },
        "id": "w61eQ2VAhY3e",
        "outputId": "8153f2fe-245a-4676-f33f-c77b1d705d9a"
      },
      "outputs": [
        {
          "name": "stdout",
          "output_type": "stream",
          "text": [
            "<class 'pandas.core.frame.DataFrame'>\n",
            "RangeIndex: 537201 entries, 0 to 537200\n",
            "Data columns (total 1 columns):\n",
            " #   Column  Non-Null Count   Dtype \n",
            "---  ------  --------------   ----- \n",
            " 0   body    466534 non-null  object\n",
            "dtypes: object(1)\n",
            "memory usage: 4.1+ MB\n"
          ]
        }
      ],
      "source": [
        "df.info()"
      ]
    },
    {
      "cell_type": "code",
      "execution_count": 12,
      "metadata": {
        "colab": {
          "base_uri": "https://localhost:8080/",
          "height": 331
        },
        "id": "bvSzB2achq7Y",
        "outputId": "640e69e2-9f6e-481e-f029-64e3dea68e4f"
      },
      "outputs": [
        {
          "data": {
            "text/plain": [
              "body    70667\n",
              "dtype: int64"
            ]
          },
          "execution_count": 12,
          "metadata": {},
          "output_type": "execute_result"
        }
      ],
      "source": [
        "df.isnull().sum()"
      ]
    },
    {
      "cell_type": "code",
      "execution_count": 13,
      "metadata": {},
      "outputs": [],
      "source": [
        "# Dropping the empty rows\n",
        "df = df.dropna().reset_index(drop=True)"
      ]
    },
    {
      "cell_type": "code",
      "execution_count": 20,
      "metadata": {
        "id": "LbWxcU_KiknI"
      },
      "outputs": [],
      "source": [
        "#Reducing the size of the dataset for BabyLM\n",
        "df = df[:12000]"
      ]
    },
    {
      "cell_type": "code",
      "execution_count": 21,
      "metadata": {},
      "outputs": [],
      "source": [
        "def preprocess(text, punctuation_marks):\n",
        "    \"\"\"Remove the punctuation specified by the user, and return the same string without the unwanted characters.\n",
        "    \n",
        "    Parameters:\n",
        "    - 'text': string to process and remove characters from.\n",
        "    - 'punctuation marks': characters to be removed, given in list format. It can be any number of characters.\"\"\"\n",
        "    \n",
        "    for character in punctuation_marks: #iterating over the characters given in the parameter list 'punctuation_marks'\n",
        "        text = text.replace(character, ' ') #the characters given will be removed from the string by replacing them with white space because it's a new sentence.\n",
        "    preprocessesed_text = text #assigning the variable text to a new variable so that it returns the text with all the instances of the punctuation marks removed.\n",
        "    return preprocessesed_text"
      ]
    },
    {
      "cell_type": "code",
      "execution_count": 22,
      "metadata": {},
      "outputs": [],
      "source": [
        "punctuation_marks = ['\\n\\n']\n",
        "\n",
        "df_sent = df\n",
        "\n",
        "# Removing the double new line that stayed even after sentence splitting\n",
        "df_sent['cleaned_text'] = df['body'].apply(lambda x: preprocess(x, punctuation_marks))\n"
      ]
    },
    {
      "cell_type": "code",
      "execution_count": 23,
      "metadata": {},
      "outputs": [],
      "source": [
        "# Separating sentences\n",
        "df_sent = df\n",
        "df_sent['sentences'] = [nltk.sent_tokenize(text) for text in df_sent['cleaned_text']]"
      ]
    },
    {
      "cell_type": "code",
      "execution_count": 24,
      "metadata": {},
      "outputs": [],
      "source": [
        "# Making a single list of all the sentences in each article\n",
        "sentences = sum(df_sent['sentences'].tolist(), [])"
      ]
    },
    {
      "cell_type": "code",
      "execution_count": 25,
      "metadata": {},
      "outputs": [
        {
          "name": "stdout",
          "output_type": "stream",
          "text": [
            "Total number of tokens: 8220990\n"
          ]
        }
      ],
      "source": [
        "# Tokenizing each sentence in sentences\n",
        "tokenized_sentences = [nltk.word_tokenize(sent, language='spanish') for sent in sentences] \n",
        "\n",
        "# Calculate the total number of tokens\n",
        "total_tokens = sum(len(tokens) for tokens in tokenized_sentences)\n",
        "\n",
        "print(f\"Total number of tokens: {total_tokens}\")"
      ]
    },
    {
      "cell_type": "code",
      "execution_count": 26,
      "metadata": {
        "id": "bnlRQdbQkAZN"
      },
      "outputs": [],
      "source": [
        "sequences = sentences"
      ]
    },
    {
      "cell_type": "code",
      "execution_count": null,
      "metadata": {
        "id": "vNisKd9xz0j0"
      },
      "outputs": [],
      "source": [
        "##Celonie's code starts here\n",
        "\n",
        "#train_filepath = 'data/ranked_sequences.csv'\n",
        "\n",
        "\n",
        "#ranked = pd.read_csv(train_filepath)\n",
        "#sequences = ranked['sequence'].tolist()\n",
        "\n",
        "#with open('combined.dev') as infile:\n",
        "#  devset = infile.read().split(\"\\n\")[:10000]\n"
      ]
    },
    {
      "cell_type": "code",
      "execution_count": 27,
      "metadata": {
        "colab": {
          "base_uri": "https://localhost:8080/"
        },
        "id": "F-Basc1I0xHd",
        "outputId": "1bb09c11-9b5a-4b30-8261-36b6e7511acc"
      },
      "outputs": [
        {
          "data": {
            "text/plain": [
              "297794"
            ]
          },
          "execution_count": 27,
          "metadata": {},
          "output_type": "execute_result"
        }
      ],
      "source": [
        "len(sequences)"
      ]
    },
    {
      "cell_type": "code",
      "execution_count": 28,
      "metadata": {
        "id": "48_3PGqGlauE"
      },
      "outputs": [],
      "source": [
        "#split data into train and dev\n",
        "\n",
        "df_train, df_dev = train_test_split(sequences, test_size=0.15, random_state=None)"
      ]
    },
    {
      "cell_type": "code",
      "execution_count": 29,
      "metadata": {
        "colab": {
          "base_uri": "https://localhost:8080/"
        },
        "id": "qnaO30UXcnu6",
        "outputId": "5525af32-fd08-41e8-ad9c-5cc4e9e875c2"
      },
      "outputs": [
        {
          "data": {
            "text/plain": [
              "253124"
            ]
          },
          "execution_count": 29,
          "metadata": {},
          "output_type": "execute_result"
        }
      ],
      "source": [
        "len(df_train)"
      ]
    },
    {
      "cell_type": "code",
      "execution_count": null,
      "metadata": {},
      "outputs": [],
      "source": [
        "## got until here 20/Sep"
      ]
    },
    {
      "cell_type": "code",
      "execution_count": null,
      "metadata": {
        "id": "Mc0atPEjqYb8"
      },
      "outputs": [],
      "source": [
        "tokenizer_folder = 'tokenizer_folder'\n",
        "\n",
        "if not os.path.exists(tokenizer_folder):\n",
        "    os.mkdir(tokenizer_folder)"
      ]
    },
    {
      "cell_type": "code",
      "execution_count": null,
      "metadata": {
        "colab": {
          "base_uri": "https://localhost:8080/"
        },
        "id": "LLiZn11uurNY",
        "outputId": "98b69403-381e-4dc9-893c-c2fc4fe0b83b"
      },
      "outputs": [],
      "source": [
        "\n",
        "# Initialize tokenizer\n",
        "tokenizer = ByteLevelBPETokenizer()\n",
        "\n",
        "tokenizer.train_from_iterator(df_train, vocab_size=52_000, min_frequency=2, show_progress=True, special_tokens=[\n",
        "    \"<s>\",\n",
        "    \"<pad>\",\n",
        "    \"</s>\",\n",
        "    \"<unk>\",\n",
        "    \"<mask>\",\n",
        "])\n",
        "\n",
        "# Save tokenizer\n",
        "tokenizer.save_model(tokenizer_folder)"
      ]
    },
    {
      "cell_type": "code",
      "execution_count": null,
      "metadata": {
        "colab": {
          "base_uri": "https://localhost:8080/"
        },
        "id": "lhHutYsoyAU5",
        "outputId": "89ced963-bf59-4e30-fd2b-12221e56e3e6"
      },
      "outputs": [],
      "source": [
        "\n",
        "# Configuration for RoBERTa model\n",
        "config = RobertaConfig(\n",
        "    vocab_size=52_000,\n",
        "    max_position_embeddings=514,\n",
        "    num_attention_heads=12,\n",
        "    num_hidden_layers=6,\n",
        "    type_vocab_size=1,\n",
        ")\n",
        "# Initialize model\n",
        "model = RobertaForMaskedLM(config=config)\n",
        "print('Num parameters: ',model.num_parameters())"
      ]
    },
    {
      "cell_type": "code",
      "execution_count": null,
      "metadata": {
        "colab": {
          "base_uri": "https://localhost:8080/"
        },
        "id": "vGymxT92yPTu",
        "outputId": "14e24f74-47c8-4922-9c42-17f8774fd1b9"
      },
      "outputs": [],
      "source": [
        "# tokenizer_folder = 'tokenizer_folder'\n",
        "\n",
        "# Load tokenizer\n",
        "max_length = 512\n",
        "tokenizer = RobertaTokenizerFast.from_pretrained(tokenizer_folder, max_len=max_length)"
      ]
    },
    {
      "cell_type": "code",
      "execution_count": null,
      "metadata": {
        "id": "WCd9hLauzYv2"
      },
      "outputs": [],
      "source": [
        "# create CustomDataset class\n",
        "\n",
        "class CustomDataset(Dataset):\n",
        "    def __init__(self, data, tokenizer):\n",
        "        self.examples = []\n",
        "        self.mask = []\n",
        "\n",
        "        for example in data:\n",
        "            x=tokenizer.encode_plus(example, max_length = max_length, truncation=True, padding=True)\n",
        "            self.examples += [x.input_ids]\n",
        "            self.mask += [x.attention_mask]\n",
        "\n",
        "    def __len__(self):\n",
        "        return len(self.examples)\n",
        "\n",
        "    def __getitem__(self, i):\n",
        "        return torch.tensor(self.examples[i])\n",
        "\n",
        "# create train and evaluation datasets\n",
        "train_dataset = CustomDataset(df_train, tokenizer)\n",
        "eval_dataset = CustomDataset(df_dev, tokenizer)"
      ]
    },
    {
      "cell_type": "code",
      "execution_count": null,
      "metadata": {
        "id": "C0OhTWkO1HhF"
      },
      "outputs": [],
      "source": [
        "\n",
        "# Define data collator\n",
        "data_collator = DataCollatorForLanguageModeling(\n",
        "    tokenizer=tokenizer, mlm=True, mlm_probability=0.15\n",
        ")"
      ]
    },
    {
      "cell_type": "code",
      "execution_count": null,
      "metadata": {
        "id": "B60fb9KTLRHz"
      },
      "outputs": [],
      "source": [
        "#adapted from https://github.com/MiuLab/FastMTL/blob/only3/custom_trainer.py\n",
        "\n",
        "# adapt get_train_dataloader function to supply DataLoader using SequentialSampler and shuffle=False to enforce curriculum learning\n",
        "\n",
        "from transformers.trainer import *\n",
        "def get_train_dataloader(self) -> DataLoader:\n",
        "    \"\"\"\n",
        "    Returns the training :class:`~torch.utils.data.DataLoader`.\n",
        "\n",
        "    Will use no sampler if :obj:`self.train_dataset` does not implement :obj:`__len__`, a random sampler (adapted\n",
        "    to distributed training if necessary) otherwise.\n",
        "\n",
        "    Subclass and override this method if you want to inject some custom behavior.\n",
        "    \"\"\"\n",
        "    if self.train_dataset is None:\n",
        "        raise ValueError(\"Trainer: training requires a train_dataset.\")\n",
        "\n",
        "    return DataLoader(\n",
        "        self.train_dataset,\n",
        "        batch_size=self.args.train_batch_size,\n",
        "        sampler=SequentialSampler(self.train_dataset),\n",
        "        collate_fn=self.data_collator,\n",
        "        drop_last=self.args.dataloader_drop_last,\n",
        "        num_workers=self.args.dataloader_num_workers,\n",
        "        shuffle=False\n",
        "    )\n",
        "Trainer.get_train_dataloader = get_train_dataloader"
      ]
    },
    {
      "cell_type": "code",
      "execution_count": null,
      "metadata": {
        "colab": {
          "base_uri": "https://localhost:8080/",
          "height": 468
        },
        "id": "oTGGf-XP1UZf",
        "outputId": "c2d98551-b9ab-441b-bbab-00b69d8454cf"
      },
      "outputs": [],
      "source": [
        "batch_size = 16\n",
        "\n",
        "# Define training arguments\n",
        "training_args = TrainingArguments(\n",
        "    output_dir='model_folder',\n",
        "    overwrite_output_dir=True,\n",
        "    evaluation_strategy = 'epoch',\n",
        "    num_train_epochs=5,\n",
        "    learning_rate=1e-4,\n",
        "    weight_decay=0.01,\n",
        "    per_device_train_batch_size=batch_size,\n",
        "    per_device_eval_batch_size=batch_size,\n",
        "    save_steps=8192,\n",
        "    save_total_limit=1,\n",
        "    #seed=10098,\n",
        "    max_steps=int(1269227 / batch_size)\n",
        ")\n",
        "# Create trainer\n",
        "trainer = Trainer(\n",
        "    model=model,\n",
        "    args=training_args,\n",
        "    data_collator=data_collator,\n",
        "    train_dataset=train_dataset,\n",
        "    eval_dataset=eval_dataset,\n",
        ")\n",
        "# Train the model\n",
        "trainer.train()"
      ]
    },
    {
      "cell_type": "code",
      "execution_count": null,
      "metadata": {
        "id": "q2X7bzHM2Dxb"
      },
      "outputs": [],
      "source": []
    }
  ],
  "metadata": {
    "accelerator": "GPU",
    "colab": {
      "gpuType": "T4",
      "provenance": []
    },
    "kernelspec": {
      "display_name": "Python 3",
      "name": "python3"
    },
    "language_info": {
      "codemirror_mode": {
        "name": "ipython",
        "version": 3
      },
      "file_extension": ".py",
      "mimetype": "text/x-python",
      "name": "python",
      "nbconvert_exporter": "python",
      "pygments_lexer": "ipython3",
      "version": "3.11.5"
    },
    "widgets": {
      "application/vnd.jupyter.widget-state+json": {
        "03cb694afd124f0192f69f7168cda45e": {
          "model_module": "@jupyter-widgets/base",
          "model_module_version": "1.2.0",
          "model_name": "LayoutModel",
          "state": {
            "_model_module": "@jupyter-widgets/base",
            "_model_module_version": "1.2.0",
            "_model_name": "LayoutModel",
            "_view_count": null,
            "_view_module": "@jupyter-widgets/base",
            "_view_module_version": "1.2.0",
            "_view_name": "LayoutView",
            "align_content": null,
            "align_items": null,
            "align_self": null,
            "border": null,
            "bottom": null,
            "display": null,
            "flex": null,
            "flex_flow": null,
            "grid_area": null,
            "grid_auto_columns": null,
            "grid_auto_flow": null,
            "grid_auto_rows": null,
            "grid_column": null,
            "grid_gap": null,
            "grid_row": null,
            "grid_template_areas": null,
            "grid_template_columns": null,
            "grid_template_rows": null,
            "height": null,
            "justify_content": null,
            "justify_items": null,
            "left": null,
            "margin": null,
            "max_height": null,
            "max_width": null,
            "min_height": null,
            "min_width": null,
            "object_fit": null,
            "object_position": null,
            "order": null,
            "overflow": null,
            "overflow_x": null,
            "overflow_y": null,
            "padding": null,
            "right": null,
            "top": null,
            "visibility": null,
            "width": null
          }
        },
        "0401714552b3402bb8221e1e09b74c59": {
          "model_module": "@jupyter-widgets/controls",
          "model_module_version": "1.5.0",
          "model_name": "DescriptionStyleModel",
          "state": {
            "_model_module": "@jupyter-widgets/controls",
            "_model_module_version": "1.5.0",
            "_model_name": "DescriptionStyleModel",
            "_view_count": null,
            "_view_module": "@jupyter-widgets/base",
            "_view_module_version": "1.2.0",
            "_view_name": "StyleView",
            "description_width": ""
          }
        },
        "125e01b941a847e493c25773b6e428c2": {
          "model_module": "@jupyter-widgets/base",
          "model_module_version": "1.2.0",
          "model_name": "LayoutModel",
          "state": {
            "_model_module": "@jupyter-widgets/base",
            "_model_module_version": "1.2.0",
            "_model_name": "LayoutModel",
            "_view_count": null,
            "_view_module": "@jupyter-widgets/base",
            "_view_module_version": "1.2.0",
            "_view_name": "LayoutView",
            "align_content": null,
            "align_items": null,
            "align_self": null,
            "border": null,
            "bottom": null,
            "display": null,
            "flex": null,
            "flex_flow": null,
            "grid_area": null,
            "grid_auto_columns": null,
            "grid_auto_flow": null,
            "grid_auto_rows": null,
            "grid_column": null,
            "grid_gap": null,
            "grid_row": null,
            "grid_template_areas": null,
            "grid_template_columns": null,
            "grid_template_rows": null,
            "height": null,
            "justify_content": null,
            "justify_items": null,
            "left": null,
            "margin": null,
            "max_height": null,
            "max_width": null,
            "min_height": null,
            "min_width": null,
            "object_fit": null,
            "object_position": null,
            "order": null,
            "overflow": null,
            "overflow_x": null,
            "overflow_y": null,
            "padding": null,
            "right": null,
            "top": null,
            "visibility": null,
            "width": null
          }
        },
        "1d3593e601ee4197bfbc10a75643ae4f": {
          "model_module": "@jupyter-widgets/controls",
          "model_module_version": "1.5.0",
          "model_name": "HTMLModel",
          "state": {
            "_dom_classes": [],
            "_model_module": "@jupyter-widgets/controls",
            "_model_module_version": "1.5.0",
            "_model_name": "HTMLModel",
            "_view_count": null,
            "_view_module": "@jupyter-widgets/controls",
            "_view_module_version": "1.5.0",
            "_view_name": "HTMLView",
            "description": "",
            "description_tooltip": null,
            "layout": "IPY_MODEL_702b6090b4f6413e8f87561de32acfcc",
            "placeholder": "​",
            "style": "IPY_MODEL_72f0128fe0954048995fc7dc4a5d15c7",
            "value": " 1.35k/1.35k [00:00&lt;00:00, 17.8kB/s]"
          }
        },
        "1eafd51247c441e492c21e41416b8371": {
          "model_module": "@jupyter-widgets/controls",
          "model_module_version": "1.5.0",
          "model_name": "ProgressStyleModel",
          "state": {
            "_model_module": "@jupyter-widgets/controls",
            "_model_module_version": "1.5.0",
            "_model_name": "ProgressStyleModel",
            "_view_count": null,
            "_view_module": "@jupyter-widgets/base",
            "_view_module_version": "1.2.0",
            "_view_name": "StyleView",
            "bar_color": null,
            "description_width": ""
          }
        },
        "25281e6fcc9049e9b3b0b58a1d6b2037": {
          "model_module": "@jupyter-widgets/controls",
          "model_module_version": "1.5.0",
          "model_name": "DescriptionStyleModel",
          "state": {
            "_model_module": "@jupyter-widgets/controls",
            "_model_module_version": "1.5.0",
            "_model_name": "DescriptionStyleModel",
            "_view_count": null,
            "_view_module": "@jupyter-widgets/base",
            "_view_module_version": "1.2.0",
            "_view_name": "StyleView",
            "description_width": ""
          }
        },
        "2def42b92d994a2c8c223ef6c71b9054": {
          "model_module": "@jupyter-widgets/base",
          "model_module_version": "1.2.0",
          "model_name": "LayoutModel",
          "state": {
            "_model_module": "@jupyter-widgets/base",
            "_model_module_version": "1.2.0",
            "_model_name": "LayoutModel",
            "_view_count": null,
            "_view_module": "@jupyter-widgets/base",
            "_view_module_version": "1.2.0",
            "_view_name": "LayoutView",
            "align_content": null,
            "align_items": null,
            "align_self": null,
            "border": null,
            "bottom": null,
            "display": null,
            "flex": null,
            "flex_flow": null,
            "grid_area": null,
            "grid_auto_columns": null,
            "grid_auto_flow": null,
            "grid_auto_rows": null,
            "grid_column": null,
            "grid_gap": null,
            "grid_row": null,
            "grid_template_areas": null,
            "grid_template_columns": null,
            "grid_template_rows": null,
            "height": null,
            "justify_content": null,
            "justify_items": null,
            "left": null,
            "margin": null,
            "max_height": null,
            "max_width": null,
            "min_height": null,
            "min_width": null,
            "object_fit": null,
            "object_position": null,
            "order": null,
            "overflow": null,
            "overflow_x": null,
            "overflow_y": null,
            "padding": null,
            "right": null,
            "top": null,
            "visibility": null,
            "width": null
          }
        },
        "389fef93c09942c281dd5c6f63b4c148": {
          "model_module": "@jupyter-widgets/controls",
          "model_module_version": "1.5.0",
          "model_name": "HTMLModel",
          "state": {
            "_dom_classes": [],
            "_model_module": "@jupyter-widgets/controls",
            "_model_module_version": "1.5.0",
            "_model_name": "HTMLModel",
            "_view_count": null,
            "_view_module": "@jupyter-widgets/controls",
            "_view_module_version": "1.5.0",
            "_view_name": "HTMLView",
            "description": "",
            "description_tooltip": null,
            "layout": "IPY_MODEL_cc324435ffb848b18a8f8f217a333b70",
            "placeholder": "​",
            "style": "IPY_MODEL_25281e6fcc9049e9b3b0b58a1d6b2037",
            "value": " 390292/390292 [00:13&lt;00:00, 29053.57 examples/s]"
          }
        },
        "3904c0e57deb4e8b95f8bc72464a8ecf": {
          "model_module": "@jupyter-widgets/controls",
          "model_module_version": "1.5.0",
          "model_name": "HTMLModel",
          "state": {
            "_dom_classes": [],
            "_model_module": "@jupyter-widgets/controls",
            "_model_module_version": "1.5.0",
            "_model_name": "HTMLModel",
            "_view_count": null,
            "_view_module": "@jupyter-widgets/controls",
            "_view_module_version": "1.5.0",
            "_view_name": "HTMLView",
            "description": "",
            "description_tooltip": null,
            "layout": "IPY_MODEL_dd4e8f401e4646e78d224019239f4b79",
            "placeholder": "​",
            "style": "IPY_MODEL_0401714552b3402bb8221e1e09b74c59",
            "value": "Generating train split: 100%"
          }
        },
        "4d7d96e97a49458584fea7bd92bbeb09": {
          "model_module": "@jupyter-widgets/controls",
          "model_module_version": "1.5.0",
          "model_name": "HBoxModel",
          "state": {
            "_dom_classes": [],
            "_model_module": "@jupyter-widgets/controls",
            "_model_module_version": "1.5.0",
            "_model_name": "HBoxModel",
            "_view_count": null,
            "_view_module": "@jupyter-widgets/controls",
            "_view_module_version": "1.5.0",
            "_view_name": "HBoxView",
            "box_style": "",
            "children": [
              "IPY_MODEL_ba539e8e49c24330b717a31c45a5ec18",
              "IPY_MODEL_c4086109f9594c718bae833a4aef71d5",
              "IPY_MODEL_1d3593e601ee4197bfbc10a75643ae4f"
            ],
            "layout": "IPY_MODEL_2def42b92d994a2c8c223ef6c71b9054"
          }
        },
        "51cf6adf67484072a89115b87ffcd27a": {
          "model_module": "@jupyter-widgets/base",
          "model_module_version": "1.2.0",
          "model_name": "LayoutModel",
          "state": {
            "_model_module": "@jupyter-widgets/base",
            "_model_module_version": "1.2.0",
            "_model_name": "LayoutModel",
            "_view_count": null,
            "_view_module": "@jupyter-widgets/base",
            "_view_module_version": "1.2.0",
            "_view_name": "LayoutView",
            "align_content": null,
            "align_items": null,
            "align_self": null,
            "border": null,
            "bottom": null,
            "display": null,
            "flex": null,
            "flex_flow": null,
            "grid_area": null,
            "grid_auto_columns": null,
            "grid_auto_flow": null,
            "grid_auto_rows": null,
            "grid_column": null,
            "grid_gap": null,
            "grid_row": null,
            "grid_template_areas": null,
            "grid_template_columns": null,
            "grid_template_rows": null,
            "height": null,
            "justify_content": null,
            "justify_items": null,
            "left": null,
            "margin": null,
            "max_height": null,
            "max_width": null,
            "min_height": null,
            "min_width": null,
            "object_fit": null,
            "object_position": null,
            "order": null,
            "overflow": null,
            "overflow_x": null,
            "overflow_y": null,
            "padding": null,
            "right": null,
            "top": null,
            "visibility": null,
            "width": null
          }
        },
        "595635c1d3614fc2bfd34db31c468931": {
          "model_module": "@jupyter-widgets/controls",
          "model_module_version": "1.5.0",
          "model_name": "ProgressStyleModel",
          "state": {
            "_model_module": "@jupyter-widgets/controls",
            "_model_module_version": "1.5.0",
            "_model_name": "ProgressStyleModel",
            "_view_count": null,
            "_view_module": "@jupyter-widgets/base",
            "_view_module_version": "1.2.0",
            "_view_name": "StyleView",
            "bar_color": null,
            "description_width": ""
          }
        },
        "5a34b3ed0bf240fb8f712ac189937b51": {
          "model_module": "@jupyter-widgets/controls",
          "model_module_version": "1.5.0",
          "model_name": "HBoxModel",
          "state": {
            "_dom_classes": [],
            "_model_module": "@jupyter-widgets/controls",
            "_model_module_version": "1.5.0",
            "_model_name": "HBoxModel",
            "_view_count": null,
            "_view_module": "@jupyter-widgets/controls",
            "_view_module_version": "1.5.0",
            "_view_name": "HBoxView",
            "box_style": "",
            "children": [
              "IPY_MODEL_3904c0e57deb4e8b95f8bc72464a8ecf",
              "IPY_MODEL_e2f85a1f3e3349999da9b57c8363a8c0",
              "IPY_MODEL_389fef93c09942c281dd5c6f63b4c148"
            ],
            "layout": "IPY_MODEL_51cf6adf67484072a89115b87ffcd27a"
          }
        },
        "6a55d2277e6f4e8b83f8229ca62e3421": {
          "model_module": "@jupyter-widgets/controls",
          "model_module_version": "1.5.0",
          "model_name": "FloatProgressModel",
          "state": {
            "_dom_classes": [],
            "_model_module": "@jupyter-widgets/controls",
            "_model_module_version": "1.5.0",
            "_model_name": "FloatProgressModel",
            "_view_count": null,
            "_view_module": "@jupyter-widgets/controls",
            "_view_module_version": "1.5.0",
            "_view_name": "ProgressView",
            "bar_style": "success",
            "description": "",
            "description_tooltip": null,
            "layout": "IPY_MODEL_03cb694afd124f0192f69f7168cda45e",
            "max": 1950404266,
            "min": 0,
            "orientation": "horizontal",
            "style": "IPY_MODEL_595635c1d3614fc2bfd34db31c468931",
            "value": 1950404266
          }
        },
        "702b6090b4f6413e8f87561de32acfcc": {
          "model_module": "@jupyter-widgets/base",
          "model_module_version": "1.2.0",
          "model_name": "LayoutModel",
          "state": {
            "_model_module": "@jupyter-widgets/base",
            "_model_module_version": "1.2.0",
            "_model_name": "LayoutModel",
            "_view_count": null,
            "_view_module": "@jupyter-widgets/base",
            "_view_module_version": "1.2.0",
            "_view_name": "LayoutView",
            "align_content": null,
            "align_items": null,
            "align_self": null,
            "border": null,
            "bottom": null,
            "display": null,
            "flex": null,
            "flex_flow": null,
            "grid_area": null,
            "grid_auto_columns": null,
            "grid_auto_flow": null,
            "grid_auto_rows": null,
            "grid_column": null,
            "grid_gap": null,
            "grid_row": null,
            "grid_template_areas": null,
            "grid_template_columns": null,
            "grid_template_rows": null,
            "height": null,
            "justify_content": null,
            "justify_items": null,
            "left": null,
            "margin": null,
            "max_height": null,
            "max_width": null,
            "min_height": null,
            "min_width": null,
            "object_fit": null,
            "object_position": null,
            "order": null,
            "overflow": null,
            "overflow_x": null,
            "overflow_y": null,
            "padding": null,
            "right": null,
            "top": null,
            "visibility": null,
            "width": null
          }
        },
        "72f0128fe0954048995fc7dc4a5d15c7": {
          "model_module": "@jupyter-widgets/controls",
          "model_module_version": "1.5.0",
          "model_name": "DescriptionStyleModel",
          "state": {
            "_model_module": "@jupyter-widgets/controls",
            "_model_module_version": "1.5.0",
            "_model_name": "DescriptionStyleModel",
            "_view_count": null,
            "_view_module": "@jupyter-widgets/base",
            "_view_module_version": "1.2.0",
            "_view_name": "StyleView",
            "description_width": ""
          }
        },
        "7c6c3ea0bb944f66b09539f721011796": {
          "model_module": "@jupyter-widgets/controls",
          "model_module_version": "1.5.0",
          "model_name": "ProgressStyleModel",
          "state": {
            "_model_module": "@jupyter-widgets/controls",
            "_model_module_version": "1.5.0",
            "_model_name": "ProgressStyleModel",
            "_view_count": null,
            "_view_module": "@jupyter-widgets/base",
            "_view_module_version": "1.2.0",
            "_view_name": "StyleView",
            "bar_color": null,
            "description_width": ""
          }
        },
        "a0a8d568ca9945bd853633f61169018e": {
          "model_module": "@jupyter-widgets/base",
          "model_module_version": "1.2.0",
          "model_name": "LayoutModel",
          "state": {
            "_model_module": "@jupyter-widgets/base",
            "_model_module_version": "1.2.0",
            "_model_name": "LayoutModel",
            "_view_count": null,
            "_view_module": "@jupyter-widgets/base",
            "_view_module_version": "1.2.0",
            "_view_name": "LayoutView",
            "align_content": null,
            "align_items": null,
            "align_self": null,
            "border": null,
            "bottom": null,
            "display": null,
            "flex": null,
            "flex_flow": null,
            "grid_area": null,
            "grid_auto_columns": null,
            "grid_auto_flow": null,
            "grid_auto_rows": null,
            "grid_column": null,
            "grid_gap": null,
            "grid_row": null,
            "grid_template_areas": null,
            "grid_template_columns": null,
            "grid_template_rows": null,
            "height": null,
            "justify_content": null,
            "justify_items": null,
            "left": null,
            "margin": null,
            "max_height": null,
            "max_width": null,
            "min_height": null,
            "min_width": null,
            "object_fit": null,
            "object_position": null,
            "order": null,
            "overflow": null,
            "overflow_x": null,
            "overflow_y": null,
            "padding": null,
            "right": null,
            "top": null,
            "visibility": null,
            "width": null
          }
        },
        "b455f7d8a64441e1909278f1985d9887": {
          "model_module": "@jupyter-widgets/base",
          "model_module_version": "1.2.0",
          "model_name": "LayoutModel",
          "state": {
            "_model_module": "@jupyter-widgets/base",
            "_model_module_version": "1.2.0",
            "_model_name": "LayoutModel",
            "_view_count": null,
            "_view_module": "@jupyter-widgets/base",
            "_view_module_version": "1.2.0",
            "_view_name": "LayoutView",
            "align_content": null,
            "align_items": null,
            "align_self": null,
            "border": null,
            "bottom": null,
            "display": null,
            "flex": null,
            "flex_flow": null,
            "grid_area": null,
            "grid_auto_columns": null,
            "grid_auto_flow": null,
            "grid_auto_rows": null,
            "grid_column": null,
            "grid_gap": null,
            "grid_row": null,
            "grid_template_areas": null,
            "grid_template_columns": null,
            "grid_template_rows": null,
            "height": null,
            "justify_content": null,
            "justify_items": null,
            "left": null,
            "margin": null,
            "max_height": null,
            "max_width": null,
            "min_height": null,
            "min_width": null,
            "object_fit": null,
            "object_position": null,
            "order": null,
            "overflow": null,
            "overflow_x": null,
            "overflow_y": null,
            "padding": null,
            "right": null,
            "top": null,
            "visibility": null,
            "width": null
          }
        },
        "b733609e932f41788ad0609910af4148": {
          "model_module": "@jupyter-widgets/controls",
          "model_module_version": "1.5.0",
          "model_name": "DescriptionStyleModel",
          "state": {
            "_model_module": "@jupyter-widgets/controls",
            "_model_module_version": "1.5.0",
            "_model_name": "DescriptionStyleModel",
            "_view_count": null,
            "_view_module": "@jupyter-widgets/base",
            "_view_module_version": "1.2.0",
            "_view_name": "StyleView",
            "description_width": ""
          }
        },
        "ba539e8e49c24330b717a31c45a5ec18": {
          "model_module": "@jupyter-widgets/controls",
          "model_module_version": "1.5.0",
          "model_name": "HTMLModel",
          "state": {
            "_dom_classes": [],
            "_model_module": "@jupyter-widgets/controls",
            "_model_module_version": "1.5.0",
            "_model_name": "HTMLModel",
            "_view_count": null,
            "_view_module": "@jupyter-widgets/controls",
            "_view_module_version": "1.5.0",
            "_view_name": "HTMLView",
            "description": "",
            "description_tooltip": null,
            "layout": "IPY_MODEL_125e01b941a847e493c25773b6e428c2",
            "placeholder": "​",
            "style": "IPY_MODEL_fdfe8ad9b63d4388a566ae859021698c",
            "value": "README.md: 100%"
          }
        },
        "c4086109f9594c718bae833a4aef71d5": {
          "model_module": "@jupyter-widgets/controls",
          "model_module_version": "1.5.0",
          "model_name": "FloatProgressModel",
          "state": {
            "_dom_classes": [],
            "_model_module": "@jupyter-widgets/controls",
            "_model_module_version": "1.5.0",
            "_model_name": "FloatProgressModel",
            "_view_count": null,
            "_view_module": "@jupyter-widgets/controls",
            "_view_module_version": "1.5.0",
            "_view_name": "ProgressView",
            "bar_style": "success",
            "description": "",
            "description_tooltip": null,
            "layout": "IPY_MODEL_b455f7d8a64441e1909278f1985d9887",
            "max": 1353,
            "min": 0,
            "orientation": "horizontal",
            "style": "IPY_MODEL_7c6c3ea0bb944f66b09539f721011796",
            "value": 1353
          }
        },
        "c6a0ae0de6ab4913aeced9bbaf0face5": {
          "model_module": "@jupyter-widgets/base",
          "model_module_version": "1.2.0",
          "model_name": "LayoutModel",
          "state": {
            "_model_module": "@jupyter-widgets/base",
            "_model_module_version": "1.2.0",
            "_model_name": "LayoutModel",
            "_view_count": null,
            "_view_module": "@jupyter-widgets/base",
            "_view_module_version": "1.2.0",
            "_view_name": "LayoutView",
            "align_content": null,
            "align_items": null,
            "align_self": null,
            "border": null,
            "bottom": null,
            "display": null,
            "flex": null,
            "flex_flow": null,
            "grid_area": null,
            "grid_auto_columns": null,
            "grid_auto_flow": null,
            "grid_auto_rows": null,
            "grid_column": null,
            "grid_gap": null,
            "grid_row": null,
            "grid_template_areas": null,
            "grid_template_columns": null,
            "grid_template_rows": null,
            "height": null,
            "justify_content": null,
            "justify_items": null,
            "left": null,
            "margin": null,
            "max_height": null,
            "max_width": null,
            "min_height": null,
            "min_width": null,
            "object_fit": null,
            "object_position": null,
            "order": null,
            "overflow": null,
            "overflow_x": null,
            "overflow_y": null,
            "padding": null,
            "right": null,
            "top": null,
            "visibility": null,
            "width": null
          }
        },
        "ca5c9c7dea6a4a69bd596a0375e07d15": {
          "model_module": "@jupyter-widgets/base",
          "model_module_version": "1.2.0",
          "model_name": "LayoutModel",
          "state": {
            "_model_module": "@jupyter-widgets/base",
            "_model_module_version": "1.2.0",
            "_model_name": "LayoutModel",
            "_view_count": null,
            "_view_module": "@jupyter-widgets/base",
            "_view_module_version": "1.2.0",
            "_view_name": "LayoutView",
            "align_content": null,
            "align_items": null,
            "align_self": null,
            "border": null,
            "bottom": null,
            "display": null,
            "flex": null,
            "flex_flow": null,
            "grid_area": null,
            "grid_auto_columns": null,
            "grid_auto_flow": null,
            "grid_auto_rows": null,
            "grid_column": null,
            "grid_gap": null,
            "grid_row": null,
            "grid_template_areas": null,
            "grid_template_columns": null,
            "grid_template_rows": null,
            "height": null,
            "justify_content": null,
            "justify_items": null,
            "left": null,
            "margin": null,
            "max_height": null,
            "max_width": null,
            "min_height": null,
            "min_width": null,
            "object_fit": null,
            "object_position": null,
            "order": null,
            "overflow": null,
            "overflow_x": null,
            "overflow_y": null,
            "padding": null,
            "right": null,
            "top": null,
            "visibility": null,
            "width": null
          }
        },
        "caa0986de6394c359d1af89cbbf0ecb7": {
          "model_module": "@jupyter-widgets/base",
          "model_module_version": "1.2.0",
          "model_name": "LayoutModel",
          "state": {
            "_model_module": "@jupyter-widgets/base",
            "_model_module_version": "1.2.0",
            "_model_name": "LayoutModel",
            "_view_count": null,
            "_view_module": "@jupyter-widgets/base",
            "_view_module_version": "1.2.0",
            "_view_name": "LayoutView",
            "align_content": null,
            "align_items": null,
            "align_self": null,
            "border": null,
            "bottom": null,
            "display": null,
            "flex": null,
            "flex_flow": null,
            "grid_area": null,
            "grid_auto_columns": null,
            "grid_auto_flow": null,
            "grid_auto_rows": null,
            "grid_column": null,
            "grid_gap": null,
            "grid_row": null,
            "grid_template_areas": null,
            "grid_template_columns": null,
            "grid_template_rows": null,
            "height": null,
            "justify_content": null,
            "justify_items": null,
            "left": null,
            "margin": null,
            "max_height": null,
            "max_width": null,
            "min_height": null,
            "min_width": null,
            "object_fit": null,
            "object_position": null,
            "order": null,
            "overflow": null,
            "overflow_x": null,
            "overflow_y": null,
            "padding": null,
            "right": null,
            "top": null,
            "visibility": null,
            "width": null
          }
        },
        "cc324435ffb848b18a8f8f217a333b70": {
          "model_module": "@jupyter-widgets/base",
          "model_module_version": "1.2.0",
          "model_name": "LayoutModel",
          "state": {
            "_model_module": "@jupyter-widgets/base",
            "_model_module_version": "1.2.0",
            "_model_name": "LayoutModel",
            "_view_count": null,
            "_view_module": "@jupyter-widgets/base",
            "_view_module_version": "1.2.0",
            "_view_name": "LayoutView",
            "align_content": null,
            "align_items": null,
            "align_self": null,
            "border": null,
            "bottom": null,
            "display": null,
            "flex": null,
            "flex_flow": null,
            "grid_area": null,
            "grid_auto_columns": null,
            "grid_auto_flow": null,
            "grid_auto_rows": null,
            "grid_column": null,
            "grid_gap": null,
            "grid_row": null,
            "grid_template_areas": null,
            "grid_template_columns": null,
            "grid_template_rows": null,
            "height": null,
            "justify_content": null,
            "justify_items": null,
            "left": null,
            "margin": null,
            "max_height": null,
            "max_width": null,
            "min_height": null,
            "min_width": null,
            "object_fit": null,
            "object_position": null,
            "order": null,
            "overflow": null,
            "overflow_x": null,
            "overflow_y": null,
            "padding": null,
            "right": null,
            "top": null,
            "visibility": null,
            "width": null
          }
        },
        "d4da5cd1489b42cbad3f0689a0237047": {
          "model_module": "@jupyter-widgets/controls",
          "model_module_version": "1.5.0",
          "model_name": "DescriptionStyleModel",
          "state": {
            "_model_module": "@jupyter-widgets/controls",
            "_model_module_version": "1.5.0",
            "_model_name": "DescriptionStyleModel",
            "_view_count": null,
            "_view_module": "@jupyter-widgets/base",
            "_view_module_version": "1.2.0",
            "_view_name": "StyleView",
            "description_width": ""
          }
        },
        "dd4e8f401e4646e78d224019239f4b79": {
          "model_module": "@jupyter-widgets/base",
          "model_module_version": "1.2.0",
          "model_name": "LayoutModel",
          "state": {
            "_model_module": "@jupyter-widgets/base",
            "_model_module_version": "1.2.0",
            "_model_name": "LayoutModel",
            "_view_count": null,
            "_view_module": "@jupyter-widgets/base",
            "_view_module_version": "1.2.0",
            "_view_name": "LayoutView",
            "align_content": null,
            "align_items": null,
            "align_self": null,
            "border": null,
            "bottom": null,
            "display": null,
            "flex": null,
            "flex_flow": null,
            "grid_area": null,
            "grid_auto_columns": null,
            "grid_auto_flow": null,
            "grid_auto_rows": null,
            "grid_column": null,
            "grid_gap": null,
            "grid_row": null,
            "grid_template_areas": null,
            "grid_template_columns": null,
            "grid_template_rows": null,
            "height": null,
            "justify_content": null,
            "justify_items": null,
            "left": null,
            "margin": null,
            "max_height": null,
            "max_width": null,
            "min_height": null,
            "min_width": null,
            "object_fit": null,
            "object_position": null,
            "order": null,
            "overflow": null,
            "overflow_x": null,
            "overflow_y": null,
            "padding": null,
            "right": null,
            "top": null,
            "visibility": null,
            "width": null
          }
        },
        "e12005eca99249e6a68e23e8293d81b4": {
          "model_module": "@jupyter-widgets/controls",
          "model_module_version": "1.5.0",
          "model_name": "HBoxModel",
          "state": {
            "_dom_classes": [],
            "_model_module": "@jupyter-widgets/controls",
            "_model_module_version": "1.5.0",
            "_model_name": "HBoxModel",
            "_view_count": null,
            "_view_module": "@jupyter-widgets/controls",
            "_view_module_version": "1.5.0",
            "_view_name": "HBoxView",
            "box_style": "",
            "children": [
              "IPY_MODEL_e5bf6536f824430e960c9fe29c0ef940",
              "IPY_MODEL_6a55d2277e6f4e8b83f8229ca62e3421",
              "IPY_MODEL_f950729509e843a4addd89a690c9ccf6"
            ],
            "layout": "IPY_MODEL_caa0986de6394c359d1af89cbbf0ecb7"
          }
        },
        "e2f85a1f3e3349999da9b57c8363a8c0": {
          "model_module": "@jupyter-widgets/controls",
          "model_module_version": "1.5.0",
          "model_name": "FloatProgressModel",
          "state": {
            "_dom_classes": [],
            "_model_module": "@jupyter-widgets/controls",
            "_model_module_version": "1.5.0",
            "_model_name": "FloatProgressModel",
            "_view_count": null,
            "_view_module": "@jupyter-widgets/controls",
            "_view_module_version": "1.5.0",
            "_view_name": "ProgressView",
            "bar_style": "success",
            "description": "",
            "description_tooltip": null,
            "layout": "IPY_MODEL_ca5c9c7dea6a4a69bd596a0375e07d15",
            "max": 390292,
            "min": 0,
            "orientation": "horizontal",
            "style": "IPY_MODEL_1eafd51247c441e492c21e41416b8371",
            "value": 390292
          }
        },
        "e5bf6536f824430e960c9fe29c0ef940": {
          "model_module": "@jupyter-widgets/controls",
          "model_module_version": "1.5.0",
          "model_name": "HTMLModel",
          "state": {
            "_dom_classes": [],
            "_model_module": "@jupyter-widgets/controls",
            "_model_module_version": "1.5.0",
            "_model_name": "HTMLModel",
            "_view_count": null,
            "_view_module": "@jupyter-widgets/controls",
            "_view_module_version": "1.5.0",
            "_view_name": "HTMLView",
            "description": "",
            "description_tooltip": null,
            "layout": "IPY_MODEL_a0a8d568ca9945bd853633f61169018e",
            "placeholder": "​",
            "style": "IPY_MODEL_d4da5cd1489b42cbad3f0689a0237047",
            "value": "boletin-oficial-argentina.jsonl: 100%"
          }
        },
        "f950729509e843a4addd89a690c9ccf6": {
          "model_module": "@jupyter-widgets/controls",
          "model_module_version": "1.5.0",
          "model_name": "HTMLModel",
          "state": {
            "_dom_classes": [],
            "_model_module": "@jupyter-widgets/controls",
            "_model_module_version": "1.5.0",
            "_model_name": "HTMLModel",
            "_view_count": null,
            "_view_module": "@jupyter-widgets/controls",
            "_view_module_version": "1.5.0",
            "_view_name": "HTMLView",
            "description": "",
            "description_tooltip": null,
            "layout": "IPY_MODEL_c6a0ae0de6ab4913aeced9bbaf0face5",
            "placeholder": "​",
            "style": "IPY_MODEL_b733609e932f41788ad0609910af4148",
            "value": " 1.95G/1.95G [00:14&lt;00:00, 120MB/s]"
          }
        },
        "fdfe8ad9b63d4388a566ae859021698c": {
          "model_module": "@jupyter-widgets/controls",
          "model_module_version": "1.5.0",
          "model_name": "DescriptionStyleModel",
          "state": {
            "_model_module": "@jupyter-widgets/controls",
            "_model_module_version": "1.5.0",
            "_model_name": "DescriptionStyleModel",
            "_view_count": null,
            "_view_module": "@jupyter-widgets/base",
            "_view_module_version": "1.2.0",
            "_view_name": "StyleView",
            "description_width": ""
          }
        }
      }
    }
  },
  "nbformat": 4,
  "nbformat_minor": 0
}
